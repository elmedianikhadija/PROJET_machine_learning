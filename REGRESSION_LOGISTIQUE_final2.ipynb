{
  "nbformat": 4,
  "nbformat_minor": 0,
  "metadata": {
    "colab": {
      "name": "REGRESSION LOGISTIQUE final2.ipynb",
      "provenance": [],
      "collapsed_sections": [],
      "authorship_tag": "ABX9TyMAwmHsa1IXPt+z9jZDVyFu",
      "include_colab_link": true
    },
    "kernelspec": {
      "name": "python3",
      "display_name": "Python 3"
    },
    "language_info": {
      "name": "python"
    }
  },
  "cells": [
    {
      "cell_type": "markdown",
      "metadata": {
        "id": "view-in-github",
        "colab_type": "text"
      },
      "source": [
        "<a href=\"https://colab.research.google.com/github/elmedianikhadija/PROJET_machine_learning/blob/main/REGRESSION_LOGISTIQUE_final2.ipynb\" target=\"_parent\"><img src=\"https://colab.research.google.com/assets/colab-badge.svg\" alt=\"Open In Colab\"/></a>"
      ]
    },
    {
      "cell_type": "markdown",
      "metadata": {
        "id": "qE3nWM8Ny2Wl"
      },
      "source": [
        "\n",
        "## Regression logistique"
      ]
    },
    {
      "cell_type": "markdown",
      "metadata": {
        "id": "b_BDOZp15BI7"
      },
      "source": [
        "# Importation des librairies"
      ]
    },
    {
      "cell_type": "code",
      "metadata": {
        "id": "GaWQ8Sd8yt_3"
      },
      "source": [
        "import numpy as np\n",
        "import matplotlib.pyplot as plt\n",
        "import pandas as pd\n",
        "from sklearn.model_selection import train_test_split\n",
        "from sklearn.preprocessing import StandardScaler\n",
        "from sklearn.linear_model import LogisticRegression\n",
        "from sklearn.metrics import confusion_matrix\n",
        "from sklearn.metrics import classification_report\n",
        "from matplotlib.colors import ListedColormap\n",
        "from mpl_toolkits.mplot3d import Axes3D\n",
        "import seaborn as sns"
      ],
      "execution_count": 10,
      "outputs": []
    },
    {
      "cell_type": "markdown",
      "metadata": {
        "id": "T-0jdZQ7zK02"
      },
      "source": [
        "# Importer la base de donnée"
      ]
    },
    {
      "cell_type": "code",
      "metadata": {
        "id": "do78RfMezGdP"
      },
      "source": [
        "import urllib.request\n",
        "dataa = \"https://raw.githubusercontent.com/elmedianikhadija/PROJET_machine_learning/main/VITAMINE%20D.csv\"\n",
        "data = pd.read_csv(dataa, thousands=',')"
      ],
      "execution_count": 11,
      "outputs": []
    },
    {
      "cell_type": "markdown",
      "metadata": {
        "id": "VMU2ocnkzZC_"
      },
      "source": [
        "# Visualisation des données"
      ]
    },
    {
      "cell_type": "code",
      "metadata": {
        "colab": {
          "base_uri": "https://localhost:8080/",
          "height": 204
        },
        "id": "gnqwS3DizGaK",
        "outputId": "9be0c769-00cc-47ab-ab77-2062cfb3790d"
      },
      "source": [
        "data.head()"
      ],
      "execution_count": 12,
      "outputs": [
        {
          "output_type": "execute_result",
          "data": {
            "text/html": [
              "<div>\n",
              "<style scoped>\n",
              "    .dataframe tbody tr th:only-of-type {\n",
              "        vertical-align: middle;\n",
              "    }\n",
              "\n",
              "    .dataframe tbody tr th {\n",
              "        vertical-align: top;\n",
              "    }\n",
              "\n",
              "    .dataframe thead th {\n",
              "        text-align: right;\n",
              "    }\n",
              "</style>\n",
              "<table border=\"1\" class=\"dataframe\">\n",
              "  <thead>\n",
              "    <tr style=\"text-align: right;\">\n",
              "      <th></th>\n",
              "      <th>ID</th>\n",
              "      <th>sexe</th>\n",
              "      <th>Age</th>\n",
              "      <th>dose</th>\n",
              "      <th>carence</th>\n",
              "    </tr>\n",
              "  </thead>\n",
              "  <tbody>\n",
              "    <tr>\n",
              "      <th>0</th>\n",
              "      <td>15624510</td>\n",
              "      <td>Female</td>\n",
              "      <td>25.0</td>\n",
              "      <td>10.0</td>\n",
              "      <td>1</td>\n",
              "    </tr>\n",
              "    <tr>\n",
              "      <th>1</th>\n",
              "      <td>15810944</td>\n",
              "      <td>Male</td>\n",
              "      <td>55.0</td>\n",
              "      <td>24.0</td>\n",
              "      <td>1</td>\n",
              "    </tr>\n",
              "    <tr>\n",
              "      <th>2</th>\n",
              "      <td>15668575</td>\n",
              "      <td>Female</td>\n",
              "      <td>19.0</td>\n",
              "      <td>40.0</td>\n",
              "      <td>0</td>\n",
              "    </tr>\n",
              "    <tr>\n",
              "      <th>3</th>\n",
              "      <td>15603246</td>\n",
              "      <td>Female</td>\n",
              "      <td>20.0</td>\n",
              "      <td>20.0</td>\n",
              "      <td>1</td>\n",
              "    </tr>\n",
              "    <tr>\n",
              "      <th>4</th>\n",
              "      <td>15804002</td>\n",
              "      <td>Male</td>\n",
              "      <td>39.0</td>\n",
              "      <td>790.0</td>\n",
              "      <td>0</td>\n",
              "    </tr>\n",
              "  </tbody>\n",
              "</table>\n",
              "</div>"
            ],
            "text/plain": [
              "         ID    sexe   Age   dose  carence\n",
              "0  15624510  Female  25.0   10.0        1\n",
              "1  15810944    Male  55.0   24.0        1\n",
              "2  15668575  Female  19.0   40.0        0\n",
              "3  15603246  Female  20.0   20.0        1\n",
              "4  15804002    Male  39.0  790.0        0"
            ]
          },
          "metadata": {},
          "execution_count": 12
        }
      ]
    },
    {
      "cell_type": "markdown",
      "metadata": {
        "id": "JzIQvD-TzkSw"
      },
      "source": [
        "# Afficher le base de donnée"
      ]
    },
    {
      "cell_type": "code",
      "metadata": {
        "colab": {
          "base_uri": "https://localhost:8080/",
          "height": 282
        },
        "id": "mie9vcITzGXd",
        "outputId": "bf013e49-6a50-4239-858a-ffb89e0e1519"
      },
      "source": [
        "plt.scatter(data.dose, data.carence) "
      ],
      "execution_count": 5,
      "outputs": [
        {
          "output_type": "execute_result",
          "data": {
            "text/plain": [
              "<matplotlib.collections.PathCollection at 0x7f60a1bf7650>"
            ]
          },
          "metadata": {},
          "execution_count": 5
        },
        {
          "output_type": "display_data",
          "data": {
            "image/png": "[encoded data removed]",
            "text/plain": [
              "<Figure size 432x288 with 1 Axes>"
            ]
          },
          "metadata": {
            "needs_background": "light"
          }
        }
      ]
    },
    {
      "cell_type": "markdown",
      "metadata": {
        "id": "iNuzGrB_zp9C"
      },
      "source": [
        "# Transformer la variable sexe"
      ]
    },
    {
      "cell_type": "code",
      "metadata": {
        "colab": {
          "base_uri": "https://localhost:8080/",
          "height": 204
        },
        "id": "NzEB_DG7zGTz",
        "outputId": "54951572-b939-4649-ff37-df50ece5beb5"
      },
      "source": [
        "data.sexe = data.sexe.map({'Male': 1, 'Female': 2})\n",
        "data.head()"
      ],
      "execution_count": 15,
      "outputs": [
        {
          "output_type": "execute_result",
          "data": {
            "text/html": [
              "<div>\n",
              "<style scoped>\n",
              "    .dataframe tbody tr th:only-of-type {\n",
              "        vertical-align: middle;\n",
              "    }\n",
              "\n",
              "    .dataframe tbody tr th {\n",
              "        vertical-align: top;\n",
              "    }\n",
              "\n",
              "    .dataframe thead th {\n",
              "        text-align: right;\n",
              "    }\n",
              "</style>\n",
              "<table border=\"1\" class=\"dataframe\">\n",
              "  <thead>\n",
              "    <tr style=\"text-align: right;\">\n",
              "      <th></th>\n",
              "      <th>ID</th>\n",
              "      <th>sexe</th>\n",
              "      <th>Age</th>\n",
              "      <th>dose</th>\n",
              "      <th>carence</th>\n",
              "    </tr>\n",
              "  </thead>\n",
              "  <tbody>\n",
              "    <tr>\n",
              "      <th>0</th>\n",
              "      <td>15624510</td>\n",
              "      <td>2</td>\n",
              "      <td>25.0</td>\n",
              "      <td>10.0</td>\n",
              "      <td>1</td>\n",
              "    </tr>\n",
              "    <tr>\n",
              "      <th>1</th>\n",
              "      <td>15810944</td>\n",
              "      <td>1</td>\n",
              "      <td>55.0</td>\n",
              "      <td>24.0</td>\n",
              "      <td>1</td>\n",
              "    </tr>\n",
              "    <tr>\n",
              "      <th>2</th>\n",
              "      <td>15668575</td>\n",
              "      <td>2</td>\n",
              "      <td>19.0</td>\n",
              "      <td>40.0</td>\n",
              "      <td>0</td>\n",
              "    </tr>\n",
              "    <tr>\n",
              "      <th>3</th>\n",
              "      <td>15603246</td>\n",
              "      <td>2</td>\n",
              "      <td>20.0</td>\n",
              "      <td>20.0</td>\n",
              "      <td>1</td>\n",
              "    </tr>\n",
              "    <tr>\n",
              "      <th>4</th>\n",
              "      <td>15804002</td>\n",
              "      <td>1</td>\n",
              "      <td>39.0</td>\n",
              "      <td>790.0</td>\n",
              "      <td>0</td>\n",
              "    </tr>\n",
              "  </tbody>\n",
              "</table>\n",
              "</div>"
            ],
            "text/plain": [
              "         ID  sexe   Age   dose  carence\n",
              "0  15624510     2  25.0   10.0        1\n",
              "1  15810944     1  55.0   24.0        1\n",
              "2  15668575     2  19.0   40.0        0\n",
              "3  15603246     2  20.0   20.0        1\n",
              "4  15804002     1  39.0  790.0        0"
            ]
          },
          "metadata": {},
          "execution_count": 15
        }
      ]
    },
    {
      "cell_type": "code",
      "metadata": {
        "colab": {
          "base_uri": "https://localhost:8080/",
          "height": 265
        },
        "id": "v3Ciq9cbzGRG",
        "outputId": "f5abf58c-0991-481e-c68d-e66c69b5b09d"
      },
      "source": [
        "import matplotlib.pyplot as plt\n",
        "from mpl_toolkits import mplot3d\n",
        "fig = plt.figure()\n",
        "ax = plt.axes(projection='3d')\n",
        "ax.scatter(data.sexe,data.Age,data.dose, c=data.carence)"
      ],
      "execution_count": 17,
      "outputs": [
        {
          "output_type": "execute_result",
          "data": {
            "text/plain": [
              "<mpl_toolkits.mplot3d.art3d.Path3DCollection at 0x7f60a13a4490>"
            ]
          },
          "metadata": {},
          "execution_count": 17
        },
        {
          "output_type": "display_data",
          "data": {
            "image/png": "[encoded data removed]",
            "text/plain": [
              "<Figure size 432x288 with 1 Axes>"
            ]
          },
          "metadata": {
            "needs_background": "light"
          }
        }
      ]
    },
    {
      "cell_type": "markdown",
      "metadata": {
        "id": "4Hnhu_yU3Mzh"
      },
      "source": [
        "# Pourcentage des gents carence de vitamine D"
      ]
    },
    {
      "cell_type": "code",
      "metadata": {
        "colab": {
          "base_uri": "https://localhost:8080/"
        },
        "id": "t74xXiM4zGPW",
        "outputId": "16d4ba7f-0e30-48ce-fef0-09ff840f38dd"
      },
      "source": [
        "count_sub = len(data[data['carence']==1])\n",
        "count_no_sub = len(data[data['carence']==0])\n",
        "pct_of_no_sub = count_no_sub/(count_no_sub+count_sub)\n",
        "print(\"Pourcentage des gents qui ne peux pas payer le prix de consultation\", pct_of_no_sub*100)"
      ],
      "execution_count": 18,
      "outputs": [
        {
          "output_type": "stream",
          "name": "stdout",
          "text": [
            "Pourcentage des gents qui ne peux pas payer le prix de consultation 64.25\n"
          ]
        }
      ]
    },
    {
      "cell_type": "markdown",
      "metadata": {
        "id": "iSCruH5N3tsK"
      },
      "source": [
        "# Influence du sexe"
      ]
    },
    {
      "cell_type": "code",
      "metadata": {
        "colab": {
          "base_uri": "https://localhost:8080/",
          "height": 309
        },
        "id": "OMVNh2btzGMa",
        "outputId": "899499dd-8c99-4ec4-f41e-59f2bcddc773"
      },
      "source": [
        " table= pd.crosstab(data.sexe,data.carence)\n",
        "table.div(table.sum(1).astype(float), axis=0).plot(kind='bar', stacked=True)\n",
        "plt.title('SEXE / carence')\n",
        "plt.xlabel('SEXE')\n",
        "plt.ylabel('Pourcentage de patient carence  ')"
      ],
      "execution_count": 20,
      "outputs": [
        {
          "output_type": "execute_result",
          "data": {
            "text/plain": [
              "Text(0, 0.5, 'Pourcentage de patient carence  ')"
            ]
          },
          "metadata": {},
          "execution_count": 20
        },
        {
          "output_type": "display_data",
          "data": {
            "image/png": "[encoded data removed]",
            "text/plain": [
              "<Figure size 432x288 with 1 Axes>"
            ]
          },
          "metadata": {
            "needs_background": "light"
          }
        }
      ]
    },
    {
      "cell_type": "markdown",
      "metadata": {
        "id": "CEstWMQs365H"
      },
      "source": [
        "# suppression de colonne sexe"
      ]
    },
    {
      "cell_type": "code",
      "metadata": {
        "colab": {
          "base_uri": "https://localhost:8080/",
          "height": 204
        },
        "id": "Y29r2fOVzGKZ",
        "outputId": "c47233cb-ba77-44f4-bed7-67680d68dbe5"
      },
      "source": [
        "data.drop(['sexe'],axis='columns',inplace=True)\n",
        "data.head()"
      ],
      "execution_count": 21,
      "outputs": [
        {
          "output_type": "execute_result",
          "data": {
            "text/html": [
              "<div>\n",
              "<style scoped>\n",
              "    .dataframe tbody tr th:only-of-type {\n",
              "        vertical-align: middle;\n",
              "    }\n",
              "\n",
              "    .dataframe tbody tr th {\n",
              "        vertical-align: top;\n",
              "    }\n",
              "\n",
              "    .dataframe thead th {\n",
              "        text-align: right;\n",
              "    }\n",
              "</style>\n",
              "<table border=\"1\" class=\"dataframe\">\n",
              "  <thead>\n",
              "    <tr style=\"text-align: right;\">\n",
              "      <th></th>\n",
              "      <th>ID</th>\n",
              "      <th>Age</th>\n",
              "      <th>dose</th>\n",
              "      <th>carence</th>\n",
              "    </tr>\n",
              "  </thead>\n",
              "  <tbody>\n",
              "    <tr>\n",
              "      <th>0</th>\n",
              "      <td>15624510</td>\n",
              "      <td>25.0</td>\n",
              "      <td>10.0</td>\n",
              "      <td>1</td>\n",
              "    </tr>\n",
              "    <tr>\n",
              "      <th>1</th>\n",
              "      <td>15810944</td>\n",
              "      <td>55.0</td>\n",
              "      <td>24.0</td>\n",
              "      <td>1</td>\n",
              "    </tr>\n",
              "    <tr>\n",
              "      <th>2</th>\n",
              "      <td>15668575</td>\n",
              "      <td>19.0</td>\n",
              "      <td>40.0</td>\n",
              "      <td>0</td>\n",
              "    </tr>\n",
              "    <tr>\n",
              "      <th>3</th>\n",
              "      <td>15603246</td>\n",
              "      <td>20.0</td>\n",
              "      <td>20.0</td>\n",
              "      <td>1</td>\n",
              "    </tr>\n",
              "    <tr>\n",
              "      <th>4</th>\n",
              "      <td>15804002</td>\n",
              "      <td>39.0</td>\n",
              "      <td>790.0</td>\n",
              "      <td>0</td>\n",
              "    </tr>\n",
              "  </tbody>\n",
              "</table>\n",
              "</div>"
            ],
            "text/plain": [
              "         ID   Age   dose  carence\n",
              "0  15624510  25.0   10.0        1\n",
              "1  15810944  55.0   24.0        1\n",
              "2  15668575  19.0   40.0        0\n",
              "3  15603246  20.0   20.0        1\n",
              "4  15804002  39.0  790.0        0"
            ]
          },
          "metadata": {},
          "execution_count": 21
        }
      ]
    },
    {
      "cell_type": "code",
      "metadata": {
        "colab": {
          "base_uri": "https://localhost:8080/",
          "height": 308
        },
        "id": "7ztM8_I8zGIF",
        "outputId": "842cd7f2-9878-4086-d6b2-f62d03a6700f"
      },
      "source": [
        "table= pd.crosstab(data.Age,data.carence)\n",
        "table.div(table.sum(1).astype(float), axis=0).plot(kind='bar', stacked=True)\n",
        "plt.title('Age / carence')\n",
        "plt.xlabel('Age')\n",
        "plt.ylabel('Pourcentage de patient carence')\n",
        "plt.savefig('Age-carence')"
      ],
      "execution_count": 23,
      "outputs": [
        {
          "output_type": "display_data",
          "data": {
            "image/png": "[encoded data removed]",
            "text/plain": [
              "<Figure size 432x288 with 1 Axes>"
            ]
          },
          "metadata": {
            "needs_background": "light"
          }
        }
      ]
    },
    {
      "cell_type": "code",
      "metadata": {
        "colab": {
          "base_uri": "https://localhost:8080/",
          "height": 337
        },
        "id": "tHK2Hc4FzGGW",
        "outputId": "a15af67f-812d-42ef-cb5e-23e73df4adff"
      },
      "source": [
        "table= pd.crosstab(data.dose,data.carence)\n",
        "table.div(table.sum(1).astype(float), axis=0).plot(kind='bar', stacked=True)\n",
        "plt.title('Salaire / carence')\n",
        "plt.xlabel('Salaire')\n",
        "plt.ylabel('Pourcentage de patient carence ')"
      ],
      "execution_count": 24,
      "outputs": [
        {
          "output_type": "execute_result",
          "data": {
            "text/plain": [
              "Text(0, 0.5, 'Pourcentage de patient carence ')"
            ]
          },
          "metadata": {},
          "execution_count": 24
        },
        {
          "output_type": "display_data",
          "data": {
            "image/png": "[encoded data removed]",
            "text/plain": [
              "<Figure size 432x288 with 1 Axes>"
            ]
          },
          "metadata": {
            "needs_background": "light"
          }
        }
      ]
    },
    {
      "cell_type": "markdown",
      "metadata": {
        "id": "BaesLKLs4H0Q"
      },
      "source": [
        "# Définir notre variable dépendante y et nos varaibles indépendantes X"
      ]
    },
    {
      "cell_type": "code",
      "metadata": {
        "id": "s4EoXPFmzGDS"
      },
      "source": [
        "X = data.iloc[:, [1, 2]].values\n",
        "y = data.iloc[:, -1].values"
      ],
      "execution_count": 25,
      "outputs": []
    },
    {
      "cell_type": "markdown",
      "metadata": {
        "id": "PTziAE-j4OAK"
      },
      "source": [
        "# Visualisation des points"
      ]
    },
    {
      "cell_type": "code",
      "metadata": {
        "colab": {
          "base_uri": "https://localhost:8080/",
          "height": 282
        },
        "id": "7DSazyOlzF-W",
        "outputId": "377d36d0-c1ef-44eb-915e-eb82edcb76d7"
      },
      "source": [
        "plt.scatter(X[:,0],X[:,1], c=y)"
      ],
      "execution_count": 26,
      "outputs": [
        {
          "output_type": "execute_result",
          "data": {
            "text/plain": [
              "<matplotlib.collections.PathCollection at 0x7f6097ec1910>"
            ]
          },
          "metadata": {},
          "execution_count": 26
        },
        {
          "output_type": "display_data",
          "data": {
            "image/png": "[encoded data removed]",
            "text/plain": [
              "<Figure size 432x288 with 1 Axes>"
            ]
          },
          "metadata": {
            "needs_background": "light"
          }
        }
      ]
    },
    {
      "cell_type": "markdown",
      "metadata": {
        "id": "El-4a9bN4Uc9"
      },
      "source": [
        "# Diviser le dataset entre le Training set et le Test set"
      ]
    },
    {
      "cell_type": "code",
      "metadata": {
        "id": "ceoX4gfpzF8G"
      },
      "source": [
        "X_train, X_test, y_train, y_test = train_test_split(X, y, test_size = 0.25, random_state = 0)"
      ],
      "execution_count": 27,
      "outputs": []
    },
    {
      "cell_type": "markdown",
      "metadata": {
        "id": "mIImDA-J4ZN-"
      },
      "source": [
        "# Feature Scaling"
      ]
    },
    {
      "cell_type": "code",
      "metadata": {
        "colab": {
          "base_uri": "https://localhost:8080/"
        },
        "id": "y0l2ohUozF5T",
        "outputId": "cfef3b27-9ec5-4349-e875-9545b94ce305"
      },
      "source": [
        "sc = StandardScaler()\n",
        "X_train = sc.fit_transform(X_train)\n",
        "X_test = sc.transform(X_test)\n",
        "X_test"
      ],
      "execution_count": 28,
      "outputs": [
        {
          "output_type": "execute_result",
          "data": {
            "text/plain": [
              "array([[-7.65839711e-01,  3.86695561e-01],\n",
              "       [ 3.52626070e-03, -1.05007138e+00],\n",
              "       [-2.84985979e-01, -9.76522600e-01],\n",
              "       [-7.65839711e-01,  2.49860613e-01],\n",
              "       [-2.84985979e-01, -1.05007138e+00],\n",
              "       [-1.05435195e+00, -7.59297122e-01],\n",
              "       [-6.69668965e-01, -1.07914881e+00],\n",
              "       [-1.88815232e-01,  1.36164456e+00],\n",
              "       [-1.91988867e+00,  6.17125611e-02],\n",
              "       [ 8.69062979e-01, -3.65896649e-01],\n",
              "       [-7.65839711e-01, -2.63270438e-01],\n",
              "       [-9.58181204e-01, -1.01073134e+00],\n",
              "       [-9.26444858e-02, -1.01073134e+00],\n",
              "       [ 9.96970072e-02,  2.15651877e-01],\n",
              "       [ 4.04269761e+00,  3.69591192e-01],\n",
              "       [-5.73498218e-01,  8.99826612e-01],\n",
              "       [-9.26444858e-02,  2.15651877e-01],\n",
              "       [-1.82371792e+00, -9.59418232e-01],\n",
              "       [ 1.63842895e+00,  1.12218340e+00],\n",
              "       [-2.84985979e-01, -7.25088385e-01],\n",
              "       [-2.84985979e-01, -2.97479175e-01],\n",
              "       [ 8.69062979e-01,  1.36164456e+00],\n",
              "       [ 2.92038500e-01, -2.29061701e-01],\n",
              "       [ 8.69062979e-01, -9.25209495e-01],\n",
              "       [-1.43903494e+00, -6.22462174e-01],\n",
              "       [ 1.06140447e+00,  1.31033145e+00],\n",
              "       [-9.58181204e-01,  3.86695561e-01],\n",
              "       [-8.62010458e-01, -9.64549542e-01],\n",
              "       [-9.26444858e-02, -4.09136492e-02],\n",
              "       [-5.73498218e-01,  3.69591192e-01],\n",
              "       [-1.63137643e+00,  4.03799929e-01],\n",
              "       [-9.26444858e-02,  2.49860613e-01],\n",
              "       [ 1.83077044e+00, -7.51223860e-02],\n",
              "       [-9.26444858e-02, -1.94852965e-01],\n",
              "       [-1.34286419e+00, -1.09331123e-01],\n",
              "       [-1.91988867e+00, -2.11957333e-01],\n",
              "       [-1.53520568e+00,  2.84069350e-01],\n",
              "       [-3.81156725e-01, -3.65896649e-01],\n",
              "       [-6.69668965e-01, -5.19835964e-01],\n",
              "       [ 1.06140447e+00, -4.85627227e-01],\n",
              "       [-1.05435195e+00,  4.03799929e-01],\n",
              "       [ 2.92038500e-01, -2.11957333e-01],\n",
              "       [-2.01605942e+00,  1.32662850e+01],\n",
              "       [ 1.63842895e+00, -1.06033401e+00],\n",
              "       [ 4.84379993e-01,  8.14304770e-01],\n",
              "       [-1.05435195e+00, -1.09331123e-01],\n",
              "       [-9.26444858e-02,  2.66964982e-01],\n",
              "       [ 1.34991671e+00,  4.38008666e-01],\n",
              "       [-1.15052270e+00, -5.88253438e-01],\n",
              "       [ 1.06140447e+00,  3.69591192e-01],\n",
              "       [ 1.83077044e+00,  9.85348454e-01],\n",
              "       [-3.81156725e-01, -1.06204444e+00],\n",
              "       [-2.84985979e-01, -1.26435491e-01],\n",
              "       [-3.81156725e-01, -9.08105127e-01],\n",
              "       [ 2.02311194e+00,  4.03799929e-01],\n",
              "       [ 6.76721486e-01, -5.54044701e-01],\n",
              "       [-8.62010458e-01, -9.64549542e-01],\n",
              "       [ 4.61972209e+00, -1.08770099e+00],\n",
              "       [ 1.06140447e+00, -6.22462174e-01],\n",
              "       [-1.43903494e+00, -7.59297122e-01],\n",
              "       [-5.73498218e-01, -7.93505858e-01],\n",
              "       [ 2.11928268e+00, -3.83001017e-01],\n",
              "       [ 9.96970072e-02,  2.49860613e-01],\n",
              "       [-1.88815232e-01,  5.91947981e-01],\n",
              "       [-1.82371792e+00, -6.56670911e-01],\n",
              "       [ 2.11928268e+00,  3.18278087e-01],\n",
              "       [-1.34286419e+00,  4.20904297e-01],\n",
              "       [-1.72754718e+00,  8.81914918e+00],\n",
              "       [ 1.95867754e-01, -2.97479175e-01],\n",
              "       [ 3.88209247e-01,  9.59212979e-02],\n",
              "       [ 3.27333164e+00, -1.06888619e+00],\n",
              "       [-2.84985979e-01,  2.15651877e-01],\n",
              "       [-1.53520568e+00, -9.98758279e-01],\n",
              "       [ 6.76721486e-01, -7.25088385e-01],\n",
              "       [-1.05435195e+00,  4.20904297e-01],\n",
              "       [-1.91988867e+00,  3.01173719e-01],\n",
              "       [ 3.88209247e-01,  2.49860613e-01],\n",
              "       [ 1.95867754e-01, -7.51223860e-02],\n",
              "       [ 1.44608746e+00, -5.19835964e-01],\n",
              "       [ 8.69062979e-01,  7.28782928e-01],\n",
              "       [ 1.92694119e+00,  1.36164456e+00],\n",
              "       [ 2.02311194e+00, -9.64549542e-01],\n",
              "       [-1.34286419e+00, -1.01586265e+00],\n",
              "       [-1.15052270e+00, -1.04494007e+00],\n",
              "       [ 1.92694119e+00, -4.51418491e-01],\n",
              "       [ 3.88209247e-01,  2.66964982e-01],\n",
              "       [ 1.95867754e-01, -9.76522600e-01],\n",
              "       [ 2.02311194e+00,  1.12218340e+00],\n",
              "       [ 7.72892233e-01, -4.00105385e-01],\n",
              "       [ 2.92038500e-01, -7.51223860e-02],\n",
              "       [ 3.88209247e-01, -6.70491241e-03],\n",
              "       [-9.26444858e-02,  1.39585330e+00],\n",
              "       [-1.43903494e+00, -2.80374807e-01],\n",
              "       [-1.24669344e+00, -1.01586265e+00],\n",
              "       [-1.34286419e+00,  3.35382455e-01],\n",
              "       [-1.05435195e+00,  5.40634876e-01],\n",
              "       [-1.43903494e+00, -2.38092808e-02],\n",
              "       [ 9.65233725e-01, -5.36940332e-01],\n",
              "       [ 9.65233725e-01,  4.38008666e-01],\n",
              "       [ 3.88209247e-01,  6.77469823e-01]])"
            ]
          },
          "metadata": {},
          "execution_count": 28
        }
      ]
    },
    {
      "cell_type": "markdown",
      "metadata": {
        "id": "4Y4Tq0Hm4gM9"
      },
      "source": [
        "# Construction du modèle"
      ]
    },
    {
      "cell_type": "code",
      "metadata": {
        "colab": {
          "base_uri": "https://localhost:8080/"
        },
        "id": "LOpAke58zF2v",
        "outputId": "5f95c970-aa83-4d75-81ad-de2050b30706"
      },
      "source": [
        "classifier = LogisticRegression(random_state = 0, solver='liblinear')\n",
        "classifier.fit(X_train, y_train)"
      ],
      "execution_count": 29,
      "outputs": [
        {
          "output_type": "execute_result",
          "data": {
            "text/plain": [
              "LogisticRegression(random_state=0, solver='liblinear')"
            ]
          },
          "metadata": {},
          "execution_count": 29
        }
      ]
    },
    {
      "cell_type": "markdown",
      "metadata": {
        "id": "N0yddJmM4kFh"
      },
      "source": [
        "# Faire de nouvelles prédictions"
      ]
    },
    {
      "cell_type": "code",
      "metadata": {
        "colab": {
          "base_uri": "https://localhost:8080/"
        },
        "id": "gmr5BTmIzFz_",
        "outputId": "d9f8e74f-efca-4a8d-f423-54d625558385"
      },
      "source": [
        "y_pred = classifier.predict(X_test)\n",
        "classifier.score(X_test,y_test)"
      ],
      "execution_count": 30,
      "outputs": [
        {
          "output_type": "execute_result",
          "data": {
            "text/plain": [
              "0.87"
            ]
          },
          "metadata": {},
          "execution_count": 30
        }
      ]
    },
    {
      "cell_type": "markdown",
      "metadata": {
        "id": "TfxwCSDg4qR0"
      },
      "source": [
        "# Matrice de confusion"
      ]
    },
    {
      "cell_type": "code",
      "metadata": {
        "colab": {
          "base_uri": "https://localhost:8080/"
        },
        "id": "y9Ms3-GPzFx6",
        "outputId": "a8b7a352-48c7-4b6f-ded0-c4666d6fe8d9"
      },
      "source": [
        "cm = confusion_matrix(y_test, y_pred)\n",
        "print(cm)"
      ],
      "execution_count": 31,
      "outputs": [
        {
          "output_type": "stream",
          "name": "stdout",
          "text": [
            "[[61  5]\n",
            " [ 8 26]]\n"
          ]
        }
      ]
    },
    {
      "cell_type": "code",
      "metadata": {
        "colab": {
          "base_uri": "https://localhost:8080/"
        },
        "id": "8dUmOPiHzFud",
        "outputId": "736221fa-6593-4b21-bcae-65c2b72f86b9"
      },
      "source": [
        "x_predict = sc.transform([[35,150]])\n",
        "classifier.predict(x_predict)"
      ],
      "execution_count": 32,
      "outputs": [
        {
          "output_type": "execute_result",
          "data": {
            "text/plain": [
              "array([0])"
            ]
          },
          "metadata": {},
          "execution_count": 32
        }
      ]
    },
    {
      "cell_type": "markdown",
      "metadata": {
        "id": "EXilkASs4wDK"
      },
      "source": [
        "# Visualiser les résultats"
      ]
    },
    {
      "cell_type": "code",
      "metadata": {
        "colab": {
          "base_uri": "https://localhost:8080/",
          "height": 349
        },
        "id": "wL4nN5oXzFlv",
        "outputId": "5ebaa6fc-8f27-4cfd-d2ce-227d607af2b9"
      },
      "source": [
        "X_set, y_set = X_train, y_train\n",
        "X1, X2 = np.meshgrid(np.arange(start = X_set[:, 0].min() - 1, stop = X_set[:, 0].max() + 1, step = 0.01),\n",
        "                     np.arange(start = X_set[:, 1].min() - 1, stop = X_set[:, 1].max() + 1, step = 0.01))\n",
        "plt.contourf(X1, X2, classifier.predict(np.array([X1.ravel(), X2.ravel()]).T).reshape(X1.shape),\n",
        "             alpha = 0.4, cmap = ListedColormap(('red', 'green')))\n",
        "plt.xlim(X1.min(), X1.max())\n",
        "plt.ylim(X2.min(), X2.max())\n",
        "for i, j in enumerate(np.unique(y_set)):\n",
        "    plt.scatter(X_set[y_set == j, 0], X_set[y_set == j, 1],\n",
        "                c = ListedColormap(('red', 'green'))(i), label = j)\n",
        "plt.title('Résultats du Training set')\n",
        "plt.xlabel('Age')\n",
        "plt.ylabel('dose de vitamine D')\n",
        "plt.legend()\n",
        "plt.show()"
      ],
      "execution_count": 35,
      "outputs": [
        {
          "output_type": "stream",
          "name": "stderr",
          "text": [
            "*c* argument looks like a single numeric RGB or RGBA sequence, which should be avoided as value-mapping will have precedence in case its length matches with *x* & *y*.  Please use the *color* keyword-argument or provide a 2-D array with a single row if you intend to specify the same RGB or RGBA value for all points.\n",
            "*c* argument looks like a single numeric RGB or RGBA sequence, which should be avoided as value-mapping will have precedence in case its length matches with *x* & *y*.  Please use the *color* keyword-argument or provide a 2-D array with a single row if you intend to specify the same RGB or RGBA value for all points.\n"
          ]
        },
        {
          "output_type": "display_data",
          "data": {
            "image/png": "[encoded data removed]",
            "text/plain": [
              "<Figure size 432x288 with 1 Axes>"
            ]
          },
          "metadata": {
            "needs_background": "light"
          }
        }
      ]
    }
  ]
}