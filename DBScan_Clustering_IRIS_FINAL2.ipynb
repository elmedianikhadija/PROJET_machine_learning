{
  "nbformat": 4,
  "nbformat_minor": 0,
  "metadata": {
    "colab": {
      "name": "DBScan Clustering IRIS FINAL2.ipynb",
      "provenance": [],
      "collapsed_sections": [],
      "authorship_tag": "ABX9TyPAzcqSHIK+bb0OoIktG8Tr",
      "include_colab_link": true
    },
    "kernelspec": {
      "name": "python3",
      "display_name": "Python 3"
    },
    "language_info": {
      "name": "python"
    }
  },
  "cells": [
    {
      "cell_type": "markdown",
      "metadata": {
        "id": "view-in-github",
        "colab_type": "text"
      },
      "source": [
        "<a href=\"https://colab.research.google.com/github/elmedianikhadija/PROJET_machine_learning/blob/main/DBScan_Clustering_IRIS_FINAL2.ipynb\" target=\"_parent\"><img src=\"https://colab.research.google.com/assets/colab-badge.svg\" alt=\"Open In Colab\"/></a>"
      ]
    },
    {
      "cell_type": "markdown",
      "metadata": {
        "id": "NQVJRUux6VqE"
      },
      "source": [
        "# DBSCAN"
      ]
    },
    {
      "cell_type": "markdown",
      "metadata": {
        "id": "IwshJgb26dKQ"
      },
      "source": [
        "# Importation des librairies"
      ]
    },
    {
      "cell_type": "code",
      "source": [
        "from sklearn import datasets\n",
        "import matplotlib.pyplot as plt\n",
        "from sklearn.cluster import DBSCAN\n",
        "from sklearn.datasets import load_iris\n",
        "import numpy as np\n",
        "import pandas as pd\n",
        "from sklearn.metrics import silhouette_score\n",
        "from google.colab import files\n",
        "from IPython.display import Image\n",
        "import math\n",
        "import matplotlib.pyplot as plt\n",
        "import matplotlib\n",
        "\n",
        "from sklearn.neighbors import NearestNeighbors\n",
        "import warnings\n",
        "warnings.filterwarnings(\"ignore\")"
      ],
      "metadata": {
        "id": "M1zepfqRWlPt"
      },
      "execution_count": null,
      "outputs": []
    },
    {
      "cell_type": "markdown",
      "metadata": {
        "id": "giFuGEqz9mcX"
      },
      "source": [
        "# DB SCAN Clustering\n",
        "    \n",
        "\n",
        "*   Fondamentalement, toutes les méthodes de clustering utilisent la même approche, c'est-à-dire que nous calculons d'abord les similitudes, puis nous l'utilisons pour regrouper les points de données en groupes.\n",
        "*   Pour exécuter DB Scan, il ne nécessite pas d'entrée pour le nombre de clusters\n",
        "* Mais DBSCAN a besoin de régler trois autres paramètres\n",
        "\n",
        "\n",
        " 1. paramètre 'eps':\n",
        "*   Identique au rayon du cercle\n",
        "*   C'est la distance maximale entre deux points de données à considérer dans le même voisinage\n",
        "*   Il définit le voisinage autour d'un point de données, c'est-à-dire que si la distance entre deux points est inférieure ou égale à « eps », alors ils sont considérés comme voisins.\n",
        "* Si la valeur eps est choisie trop petite, une grande partie des données sera considérée comme aberrante. S'il est choisi très grand, les clusters fusionneront et la majorité des points de données seront dans les mêmes clusters.\n",
        "\n",
        " 2. Paramètre 'min_samples':\n",
        "\n",
        "\n",
        "*   C'est la quantité minimale de points de données dans un quartier pour être considéré comme un cluster.\n",
        "\n",
        "3. paramètre 'métric':\n",
        "\n",
        "\n",
        "*   La métrique à utiliser lors du calcul de la distance entre les instances dans un tableau d'entités (c'est-à-dire la distance euclidienne). \n",
        "\n",
        "\n",
        "---\n",
        "\n",
        "\n",
        "\n",
        "Dans cet algorithme, nous avons 3 types de points de données.\n",
        "*   Core Point:un point est un point central s'il a plus de points MinPts dans eps (rayon).\n",
        "\n",
        "\n",
        "*   Border Point:un point qui a moins de MinPts dans eps mais qui se trouve à proximité d'un point central.\n",
        "*  Noise or outlier:un point qui n'est pas un point central ou un point frontière. \n",
        "\n",
        "\n",
        "\n",
        "\n",
        "\n",
        "\n",
        "\n",
        "\n",
        "\n",
        "\n",
        "\n",
        "\n",
        "\n",
        "    \n",
        "\n",
        "\n",
        "\n",
        "\n",
        "\n",
        "\n",
        "\n",
        "\n",
        "\n",
        "\n",
        "\n",
        "\n",
        "\n",
        "\n",
        "\n"
      ]
    },
    {
      "cell_type": "markdown",
      "metadata": {
        "id": "NBwE8CIp3syO"
      },
      "source": [
        "# Informations sur les données :"
      ]
    },
    {
      "cell_type": "markdown",
      "metadata": {
        "id": "8iRf51e-3uNa"
      },
      "source": [
        "L’ensemble de données est disponible sur le site Web de Kaggle, Il comprend trois espèces d’iris avec 151 échantillons chacune ainsi que certaines propriétés sur chaque fleur. Une espèce de fleur est séparable linéairement des deux autres, mais les deux autres ne sont pas séparables linéairement l’une de l’autre.\n",
        "\n",
        "Les colonnes de ce jeu de données sont les suivantes :\n",
        "\n",
        "Id\n",
        "\n",
        "SepalLengthCm\n",
        "\n",
        "SepalWidthCm\n",
        "\n",
        "PétaleNgthCm\n",
        "\n",
        "PetalWidthCm\n",
        "\n",
        "Espèce"
      ]
    },
    {
      "cell_type": "markdown",
      "metadata": {
        "id": "i_Ge8pxF6msc"
      },
      "source": [
        "# Importer la base de donnée"
      ]
    },
    {
      "cell_type": "code",
      "metadata": {
        "colab": {
          "base_uri": "https://localhost:8080/",
          "height": 206
        },
        "id": "HWiCWrJvMNYK",
        "outputId": "97b35105-37da-4ed7-c78a-b9c7aecbc495"
      },
      "source": [
        "import urllib.request\n",
        "dataa = \"https://raw.githubusercontent.com/elmedianikhadija/PROJET_machine_learning/main/Iris.csv\"\n",
        "iris_data = pd.read_csv(dataa, thousands=',')\n",
        "iris_data.head()"
      ],
      "execution_count": null,
      "outputs": [
        {
          "output_type": "execute_result",
          "data": {
            "text/html": [
              "<div>\n",
              "<style scoped>\n",
              "    .dataframe tbody tr th:only-of-type {\n",
              "        vertical-align: middle;\n",
              "    }\n",
              "\n",
              "    .dataframe tbody tr th {\n",
              "        vertical-align: top;\n",
              "    }\n",
              "\n",
              "    .dataframe thead th {\n",
              "        text-align: right;\n",
              "    }\n",
              "</style>\n",
              "<table border=\"1\" class=\"dataframe\">\n",
              "  <thead>\n",
              "    <tr style=\"text-align: right;\">\n",
              "      <th></th>\n",
              "      <th>Id</th>\n",
              "      <th>SepalLengthCm</th>\n",
              "      <th>SepalWidthCm</th>\n",
              "      <th>PetalLengthCm</th>\n",
              "      <th>PetalWidthCm</th>\n",
              "      <th>Species</th>\n",
              "    </tr>\n",
              "  </thead>\n",
              "  <tbody>\n",
              "    <tr>\n",
              "      <th>0</th>\n",
              "      <td>1</td>\n",
              "      <td>5.1</td>\n",
              "      <td>3.5</td>\n",
              "      <td>1.4</td>\n",
              "      <td>0.2</td>\n",
              "      <td>Iris-setosa</td>\n",
              "    </tr>\n",
              "    <tr>\n",
              "      <th>1</th>\n",
              "      <td>2</td>\n",
              "      <td>4.9</td>\n",
              "      <td>3.0</td>\n",
              "      <td>1.4</td>\n",
              "      <td>0.2</td>\n",
              "      <td>Iris-setosa</td>\n",
              "    </tr>\n",
              "    <tr>\n",
              "      <th>2</th>\n",
              "      <td>3</td>\n",
              "      <td>4.7</td>\n",
              "      <td>3.2</td>\n",
              "      <td>1.3</td>\n",
              "      <td>0.2</td>\n",
              "      <td>Iris-setosa</td>\n",
              "    </tr>\n",
              "    <tr>\n",
              "      <th>3</th>\n",
              "      <td>4</td>\n",
              "      <td>4.6</td>\n",
              "      <td>3.1</td>\n",
              "      <td>1.5</td>\n",
              "      <td>0.2</td>\n",
              "      <td>Iris-setosa</td>\n",
              "    </tr>\n",
              "    <tr>\n",
              "      <th>4</th>\n",
              "      <td>5</td>\n",
              "      <td>5.0</td>\n",
              "      <td>3.6</td>\n",
              "      <td>1.4</td>\n",
              "      <td>0.2</td>\n",
              "      <td>Iris-setosa</td>\n",
              "    </tr>\n",
              "  </tbody>\n",
              "</table>\n",
              "</div>"
            ],
            "text/plain": [
              "   Id  SepalLengthCm  SepalWidthCm  PetalLengthCm  PetalWidthCm      Species\n",
              "0   1            5.1           3.5            1.4           0.2  Iris-setosa\n",
              "1   2            4.9           3.0            1.4           0.2  Iris-setosa\n",
              "2   3            4.7           3.2            1.3           0.2  Iris-setosa\n",
              "3   4            4.6           3.1            1.5           0.2  Iris-setosa\n",
              "4   5            5.0           3.6            1.4           0.2  Iris-setosa"
            ]
          },
          "metadata": {},
          "execution_count": 30
        }
      ]
    },
    {
      "cell_type": "markdown",
      "metadata": {
        "id": "ob3q8lPC6vEA"
      },
      "source": [
        "# Transformer la variable Species"
      ]
    },
    {
      "cell_type": "code",
      "metadata": {
        "colab": {
          "base_uri": "https://localhost:8080/",
          "height": 206
        },
        "id": "UNnL3bA7MiHO",
        "outputId": "4ec2f1f9-d72b-4ff2-a410-fda80e0403d3"
      },
      "source": [
        "iris_data.Species =iris_data.Species.map({'Iris-setosa': 0, 'Iris-versicolor': 1, 'Iris-virginica':2})\n",
        "iris_data.head()"
      ],
      "execution_count": null,
      "outputs": [
        {
          "output_type": "execute_result",
          "data": {
            "text/html": [
              "<div>\n",
              "<style scoped>\n",
              "    .dataframe tbody tr th:only-of-type {\n",
              "        vertical-align: middle;\n",
              "    }\n",
              "\n",
              "    .dataframe tbody tr th {\n",
              "        vertical-align: top;\n",
              "    }\n",
              "\n",
              "    .dataframe thead th {\n",
              "        text-align: right;\n",
              "    }\n",
              "</style>\n",
              "<table border=\"1\" class=\"dataframe\">\n",
              "  <thead>\n",
              "    <tr style=\"text-align: right;\">\n",
              "      <th></th>\n",
              "      <th>Id</th>\n",
              "      <th>SepalLengthCm</th>\n",
              "      <th>SepalWidthCm</th>\n",
              "      <th>PetalLengthCm</th>\n",
              "      <th>PetalWidthCm</th>\n",
              "      <th>Species</th>\n",
              "    </tr>\n",
              "  </thead>\n",
              "  <tbody>\n",
              "    <tr>\n",
              "      <th>0</th>\n",
              "      <td>1</td>\n",
              "      <td>5.1</td>\n",
              "      <td>3.5</td>\n",
              "      <td>1.4</td>\n",
              "      <td>0.2</td>\n",
              "      <td>0</td>\n",
              "    </tr>\n",
              "    <tr>\n",
              "      <th>1</th>\n",
              "      <td>2</td>\n",
              "      <td>4.9</td>\n",
              "      <td>3.0</td>\n",
              "      <td>1.4</td>\n",
              "      <td>0.2</td>\n",
              "      <td>0</td>\n",
              "    </tr>\n",
              "    <tr>\n",
              "      <th>2</th>\n",
              "      <td>3</td>\n",
              "      <td>4.7</td>\n",
              "      <td>3.2</td>\n",
              "      <td>1.3</td>\n",
              "      <td>0.2</td>\n",
              "      <td>0</td>\n",
              "    </tr>\n",
              "    <tr>\n",
              "      <th>3</th>\n",
              "      <td>4</td>\n",
              "      <td>4.6</td>\n",
              "      <td>3.1</td>\n",
              "      <td>1.5</td>\n",
              "      <td>0.2</td>\n",
              "      <td>0</td>\n",
              "    </tr>\n",
              "    <tr>\n",
              "      <th>4</th>\n",
              "      <td>5</td>\n",
              "      <td>5.0</td>\n",
              "      <td>3.6</td>\n",
              "      <td>1.4</td>\n",
              "      <td>0.2</td>\n",
              "      <td>0</td>\n",
              "    </tr>\n",
              "  </tbody>\n",
              "</table>\n",
              "</div>"
            ],
            "text/plain": [
              "   Id  SepalLengthCm  SepalWidthCm  PetalLengthCm  PetalWidthCm  Species\n",
              "0   1            5.1           3.5            1.4           0.2        0\n",
              "1   2            4.9           3.0            1.4           0.2        0\n",
              "2   3            4.7           3.2            1.3           0.2        0\n",
              "3   4            4.6           3.1            1.5           0.2        0\n",
              "4   5            5.0           3.6            1.4           0.2        0"
            ]
          },
          "metadata": {},
          "execution_count": 31
        }
      ]
    },
    {
      "cell_type": "markdown",
      "metadata": {
        "id": "M38LHpm-668r"
      },
      "source": [
        "# Suppression de User ID"
      ]
    },
    {
      "cell_type": "code",
      "metadata": {
        "id": "_NWIp2t3Mh7T"
      },
      "source": [
        "iris_data.drop(['Id'],axis='columns',inplace=True)\n"
      ],
      "execution_count": null,
      "outputs": []
    },
    {
      "cell_type": "code",
      "metadata": {
        "colab": {
          "base_uri": "https://localhost:8080/",
          "height": 206
        },
        "id": "kWSgjHG2Mhw6",
        "outputId": "afa9c76b-371b-46a7-b42a-3515b70c9b05"
      },
      "source": [
        "iris_data.head()"
      ],
      "execution_count": null,
      "outputs": [
        {
          "output_type": "execute_result",
          "data": {
            "text/html": [
              "<div>\n",
              "<style scoped>\n",
              "    .dataframe tbody tr th:only-of-type {\n",
              "        vertical-align: middle;\n",
              "    }\n",
              "\n",
              "    .dataframe tbody tr th {\n",
              "        vertical-align: top;\n",
              "    }\n",
              "\n",
              "    .dataframe thead th {\n",
              "        text-align: right;\n",
              "    }\n",
              "</style>\n",
              "<table border=\"1\" class=\"dataframe\">\n",
              "  <thead>\n",
              "    <tr style=\"text-align: right;\">\n",
              "      <th></th>\n",
              "      <th>SepalLengthCm</th>\n",
              "      <th>SepalWidthCm</th>\n",
              "      <th>PetalLengthCm</th>\n",
              "      <th>PetalWidthCm</th>\n",
              "      <th>Species</th>\n",
              "    </tr>\n",
              "  </thead>\n",
              "  <tbody>\n",
              "    <tr>\n",
              "      <th>0</th>\n",
              "      <td>5.1</td>\n",
              "      <td>3.5</td>\n",
              "      <td>1.4</td>\n",
              "      <td>0.2</td>\n",
              "      <td>0</td>\n",
              "    </tr>\n",
              "    <tr>\n",
              "      <th>1</th>\n",
              "      <td>4.9</td>\n",
              "      <td>3.0</td>\n",
              "      <td>1.4</td>\n",
              "      <td>0.2</td>\n",
              "      <td>0</td>\n",
              "    </tr>\n",
              "    <tr>\n",
              "      <th>2</th>\n",
              "      <td>4.7</td>\n",
              "      <td>3.2</td>\n",
              "      <td>1.3</td>\n",
              "      <td>0.2</td>\n",
              "      <td>0</td>\n",
              "    </tr>\n",
              "    <tr>\n",
              "      <th>3</th>\n",
              "      <td>4.6</td>\n",
              "      <td>3.1</td>\n",
              "      <td>1.5</td>\n",
              "      <td>0.2</td>\n",
              "      <td>0</td>\n",
              "    </tr>\n",
              "    <tr>\n",
              "      <th>4</th>\n",
              "      <td>5.0</td>\n",
              "      <td>3.6</td>\n",
              "      <td>1.4</td>\n",
              "      <td>0.2</td>\n",
              "      <td>0</td>\n",
              "    </tr>\n",
              "  </tbody>\n",
              "</table>\n",
              "</div>"
            ],
            "text/plain": [
              "   SepalLengthCm  SepalWidthCm  PetalLengthCm  PetalWidthCm  Species\n",
              "0            5.1           3.5            1.4           0.2        0\n",
              "1            4.9           3.0            1.4           0.2        0\n",
              "2            4.7           3.2            1.3           0.2        0\n",
              "3            4.6           3.1            1.5           0.2        0\n",
              "4            5.0           3.6            1.4           0.2        0"
            ]
          },
          "metadata": {},
          "execution_count": 33
        }
      ]
    },
    {
      "cell_type": "markdown",
      "metadata": {
        "id": "svXih2Th7WQU"
      },
      "source": [
        "# Preparing Data"
      ]
    },
    {
      "cell_type": "markdown",
      "metadata": {
        "id": "gy21paQs9Sox"
      },
      "source": [
        "\n",
        "Ici, nous avons la variable cible 'Species'.\n",
        "\n",
        "Il faut supprimer la variable cible, utilisée pour travailler dans un apprentissage non supervisé\n",
        "\n",
        "La fonction iloc est utilisée pour obtenir les fonctionnalités dont nous avons besoin.\n",
        "\n",
        "Nous utilisons également la fonction .values pour obtenir un tableau de l'ensemble de données.\n",
        "\n",
        "Notez que nous avons transformé l'ensemble de données en un tableau afin que nous puissions tracer les graphiques des clusters "
      ]
    },
    {
      "cell_type": "code",
      "metadata": {
        "colab": {
          "base_uri": "https://localhost:8080/"
        },
        "id": "lE9lPwehMhmO",
        "outputId": "ea35897c-b18f-41f7-abbc-102b6ebe7f6c"
      },
      "source": [
        "iris_X = iris_data.iloc[:, [0, 1, 2,3]].values\n",
        "print(iris_X[:5,:]) # Printing First 5 Rows"
      ],
      "execution_count": null,
      "outputs": [
        {
          "output_type": "stream",
          "name": "stdout",
          "text": [
            "[[5.1 3.5 1.4 0.2]\n",
            " [4.9 3.  1.4 0.2]\n",
            " [4.7 3.2 1.3 0.2]\n",
            " [4.6 3.1 1.5 0.2]\n",
            " [5.  3.6 1.4 0.2]]\n"
          ]
        }
      ]
    },
    {
      "cell_type": "markdown",
      "metadata": {
        "id": "niEa_nZQ-jrY"
      },
      "source": [
        "Maintenant, nous allons séparer la variable cible de l'ensemble de données d'origine;\n",
        "\n",
        "Et à nouveau convertissez-le en un tableau en utilisant numpy"
      ]
    },
    {
      "cell_type": "code",
      "metadata": {
        "colab": {
          "base_uri": "https://localhost:8080/"
        },
        "id": "Muil1VWpPg0y",
        "outputId": "d4b79786-c957-4334-cd21-dff172bf013e"
      },
      "source": [
        "iris_Y = iris_data['Species']\n",
        "iris_Y = np.array(iris_Y)\n",
        "print(iris_Y)\n",
        "unique, counts = np.unique(iris_Y, return_counts=True)\n",
        "freq_2 = dict(zip(unique, counts))\n",
        "print(freq_2)"
      ],
      "execution_count": null,
      "outputs": [
        {
          "output_type": "stream",
          "name": "stdout",
          "text": [
            "[0 0 0 0 0 0 0 0 0 0 0 0 0 0 0 0 0 0 0 0 0 0 0 0 0 0 0 0 0 0 0 0 0 0 0 0 0\n",
            " 0 0 0 0 0 0 0 0 0 0 0 0 0 1 1 1 1 1 1 1 1 1 1 1 1 1 1 1 1 1 1 1 1 1 1 1 1\n",
            " 1 1 1 1 1 1 1 1 1 1 1 1 1 1 1 1 1 1 1 1 1 1 1 1 1 1 2 2 2 2 2 2 2 2 2 2 2\n",
            " 2 2 2 2 2 2 2 2 2 2 2 2 2 2 2 2 2 2 2 2 2 2 2 2 2 2 2 2 2 2 2 2 2 2 2 2 2\n",
            " 2 2]\n",
            "{0: 50, 1: 50, 2: 50}\n"
          ]
        }
      ]
    },
    {
      "cell_type": "markdown",
      "metadata": {
        "id": "FHQLsjqN7jP4"
      },
      "source": [
        "# Filtering Setosa"
      ]
    },
    {
      "cell_type": "code",
      "metadata": {
        "colab": {
          "base_uri": "https://localhost:8080/"
        },
        "id": "Hv8rCrCKPgtq",
        "outputId": "0b4923b1-6511-468e-a15d-8310a5f9306d"
      },
      "source": [
        "Setosa = iris_data['Species'] == 0\n",
        "print(\"Filtering Setosa, True means its Setosa and False means Non Setosa\")\n",
        "print(Setosa.head())\n",
        "print(\"Top 6 Rows of Setosa\")\n",
        "Setosa_v2 = iris_data[Setosa]\n",
        "print(Setosa_v2[Setosa_v2.columns[0:2]].head())\n",
        "print(\"Last 6 Rows of Setosa\")\n",
        "print(Setosa_v2[Setosa_v2.columns[0:2]].tail())"
      ],
      "execution_count": null,
      "outputs": [
        {
          "output_type": "stream",
          "name": "stdout",
          "text": [
            "Filtering Setosa, True means its Setosa and False means Non Setosa\n",
            "0    True\n",
            "1    True\n",
            "2    True\n",
            "3    True\n",
            "4    True\n",
            "Name: Species, dtype: bool\n",
            "Top 6 Rows of Setosa\n",
            "   SepalLengthCm  SepalWidthCm\n",
            "0            5.1           3.5\n",
            "1            4.9           3.0\n",
            "2            4.7           3.2\n",
            "3            4.6           3.1\n",
            "4            5.0           3.6\n",
            "Last 6 Rows of Setosa\n",
            "    SepalLengthCm  SepalWidthCm\n",
            "45            4.8           3.0\n",
            "46            5.1           3.8\n",
            "47            4.6           3.2\n",
            "48            5.3           3.7\n",
            "49            5.0           3.3\n"
          ]
        }
      ]
    },
    {
      "cell_type": "markdown",
      "metadata": {
        "id": "1aioGvGy7o4s"
      },
      "source": [
        "# Filtering Setosa for 2D Plot "
      ]
    },
    {
      "cell_type": "code",
      "metadata": {
        "colab": {
          "base_uri": "https://localhost:8080/",
          "height": 477
        },
        "id": "LPwzcdh7Pgls",
        "outputId": "f3b54de6-3b9a-48b2-86ec-df3287cc96dc"
      },
      "source": [
        "print(\"Setosa for 2D Plot\")\n",
        "print(\"X Axis points\")\n",
        "print(iris_X[iris_Y == 0,0])\n",
        "print(\"Y Axis Points\")\n",
        "print(iris_X[iris_Y == 0,1])\n",
        "print('\\n')\n",
        "plt.scatter(iris_X[iris_Y == 0, 0], iris_X[iris_Y == 0, 1], \n",
        "            s = 80, c = 'orange', label = 'Iris-setosa')\n",
        "plt.xlim([4.5,8])\n",
        "plt.ylim([2,4.5])"
      ],
      "execution_count": null,
      "outputs": [
        {
          "output_type": "stream",
          "name": "stdout",
          "text": [
            "Setosa for 2D Plot\n",
            "X Axis points\n",
            "[5.1 4.9 4.7 4.6 5.  5.4 4.6 5.  4.4 4.9 5.4 4.8 4.8 4.3 5.8 5.7 5.4 5.1\n",
            " 5.7 5.1 5.4 5.1 4.6 5.1 4.8 5.  5.  5.2 5.2 4.7 4.8 5.4 5.2 5.5 4.9 5.\n",
            " 5.5 4.9 4.4 5.1 5.  4.5 4.4 5.  5.1 4.8 5.1 4.6 5.3 5. ]\n",
            "Y Axis Points\n",
            "[3.5 3.  3.2 3.1 3.6 3.9 3.4 3.4 2.9 3.1 3.7 3.4 3.  3.  4.  4.4 3.9 3.5\n",
            " 3.8 3.8 3.4 3.7 3.6 3.3 3.4 3.  3.4 3.5 3.4 3.2 3.1 3.4 4.1 4.2 3.1 3.2\n",
            " 3.5 3.1 3.  3.4 3.5 2.3 3.2 3.5 3.8 3.  3.8 3.2 3.7 3.3]\n",
            "\n",
            "\n"
          ]
        },
        {
          "output_type": "execute_result",
          "data": {
            "text/plain": [
              "(2.0, 4.5)"
            ]
          },
          "metadata": {},
          "execution_count": 37
        },
        {
          "output_type": "display_data",
          "data": {
            "image/png": "[encoded data removed]",
            "text/plain": [
              "<Figure size 432x288 with 1 Axes>"
            ]
          },
          "metadata": {
            "needs_background": "light"
          }
        }
      ]
    },
    {
      "cell_type": "markdown",
      "metadata": {
        "id": "fNo0bY7B7t5n"
      },
      "source": [
        "# Filtering Versicolour"
      ]
    },
    {
      "cell_type": "code",
      "metadata": {
        "colab": {
          "base_uri": "https://localhost:8080/"
        },
        "id": "gkB1HcEWPgai",
        "outputId": "962dafc3-b2b5-4d78-af82-57564ee008f1"
      },
      "source": [
        "Versi = iris_data['Species'] == 1\n",
        "print(\"Filtering Versicolour, True means its Versicolour and False means Non Versicolour\")\n",
        "print(Versi.head())\n",
        "print(\"Top 6 Rows of Versicolour\")\n",
        "Versi_v2 = iris_data[Versi]\n",
        "print(Versi_v2[Versi_v2.columns[0:2]].head())\n",
        "print(\"Last 6 Rows of Versicolour\")\n",
        "print(Versi_v2[Versi_v2.columns[0:2]].tail())"
      ],
      "execution_count": null,
      "outputs": [
        {
          "output_type": "stream",
          "name": "stdout",
          "text": [
            "Filtering Versicolour, True means its Versicolour and False means Non Versicolour\n",
            "0    False\n",
            "1    False\n",
            "2    False\n",
            "3    False\n",
            "4    False\n",
            "Name: Species, dtype: bool\n",
            "Top 6 Rows of Versicolour\n",
            "    SepalLengthCm  SepalWidthCm\n",
            "50            7.0           3.2\n",
            "51            6.4           3.2\n",
            "52            6.9           3.1\n",
            "53            5.5           2.3\n",
            "54            6.5           2.8\n",
            "Last 6 Rows of Versicolour\n",
            "    SepalLengthCm  SepalWidthCm\n",
            "95            5.7           3.0\n",
            "96            5.7           2.9\n",
            "97            6.2           2.9\n",
            "98            5.1           2.5\n",
            "99            5.7           2.8\n"
          ]
        }
      ]
    },
    {
      "cell_type": "markdown",
      "metadata": {
        "id": "xVdQDxlL7yie"
      },
      "source": [
        "# Filtering Versicolour for 2D Plot"
      ]
    },
    {
      "cell_type": "code",
      "metadata": {
        "colab": {
          "base_uri": "https://localhost:8080/",
          "height": 477
        },
        "id": "yJaooH12PgN2",
        "outputId": "3b2f8da0-e3af-4a18-dfcb-0d6e0700c5df"
      },
      "source": [
        " print(\"Versicolour for 2D Plot\")\n",
        "print(\"X Axis points\")\n",
        "print(iris_X[iris_Y == 1,0])\n",
        "print(\"Y Axis Points\")\n",
        "print(iris_X[iris_Y == 1,1])\n",
        "print('\\n')\n",
        "plt.scatter(iris_X[iris_Y == 1, 0], iris_X[iris_Y == 1, 1], \n",
        "            s = 80, c = 'yellow', label = 'Iris-versicolour')\n",
        "\n",
        "plt.xlim([4.5,8])\n",
        "plt.ylim([2,4.5])"
      ],
      "execution_count": null,
      "outputs": [
        {
          "output_type": "stream",
          "name": "stdout",
          "text": [
            "Versicolour for 2D Plot\n",
            "X Axis points\n",
            "[7.  6.4 6.9 5.5 6.5 5.7 6.3 4.9 6.6 5.2 5.  5.9 6.  6.1 5.6 6.7 5.6 5.8\n",
            " 6.2 5.6 5.9 6.1 6.3 6.1 6.4 6.6 6.8 6.7 6.  5.7 5.5 5.5 5.8 6.  5.4 6.\n",
            " 6.7 6.3 5.6 5.5 5.5 6.1 5.8 5.  5.6 5.7 5.7 6.2 5.1 5.7]\n",
            "Y Axis Points\n",
            "[3.2 3.2 3.1 2.3 2.8 2.8 3.3 2.4 2.9 2.7 2.  3.  2.2 2.9 2.9 3.1 3.  2.7\n",
            " 2.2 2.5 3.2 2.8 2.5 2.8 2.9 3.  2.8 3.  2.9 2.6 2.4 2.4 2.7 2.7 3.  3.4\n",
            " 3.1 2.3 3.  2.5 2.6 3.  2.6 2.3 2.7 3.  2.9 2.9 2.5 2.8]\n",
            "\n",
            "\n"
          ]
        },
        {
          "output_type": "execute_result",
          "data": {
            "text/plain": [
              "(2.0, 4.5)"
            ]
          },
          "metadata": {},
          "execution_count": 39
        },
        {
          "output_type": "display_data",
          "data": {
            "image/png": "[encoded data removed]",
            "text/plain": [
              "<Figure size 432x288 with 1 Axes>"
            ]
          },
          "metadata": {
            "needs_background": "light"
          }
        }
      ]
    },
    {
      "cell_type": "markdown",
      "metadata": {
        "id": "-3z5FhKG75be"
      },
      "source": [
        "# Filtering Virginica"
      ]
    },
    {
      "cell_type": "code",
      "metadata": {
        "colab": {
          "base_uri": "https://localhost:8080/"
        },
        "id": "KAC2vC1nQScQ",
        "outputId": "747f15ce-749c-4054-fe9d-957a95f6e02f"
      },
      "source": [
        "Virginica = iris_data['Species'] == 2\n",
        "print(\"Filtering Virginica, True means its Virginica and False means Non Virginica\")\n",
        "print(Virginica.head())\n",
        "print(\"Top 6 Rows of Virginica\")\n",
        "Virginica_v2 = iris_data[Virginica]\n",
        "print(Virginica_v2[Virginica_v2.columns[0:2]].head())\n",
        "print(\"Last 6 Rows of Virginica\")\n",
        "print(Virginica_v2[Virginica_v2.columns[0:2]].tail())"
      ],
      "execution_count": null,
      "outputs": [
        {
          "output_type": "stream",
          "name": "stdout",
          "text": [
            "Filtering Virginica, True means its Virginica and False means Non Virginica\n",
            "0    False\n",
            "1    False\n",
            "2    False\n",
            "3    False\n",
            "4    False\n",
            "Name: Species, dtype: bool\n",
            "Top 6 Rows of Virginica\n",
            "     SepalLengthCm  SepalWidthCm\n",
            "100            6.3           3.3\n",
            "101            5.8           2.7\n",
            "102            7.1           3.0\n",
            "103            6.3           2.9\n",
            "104            6.5           3.0\n",
            "Last 6 Rows of Virginica\n",
            "     SepalLengthCm  SepalWidthCm\n",
            "145            6.7           3.0\n",
            "146            6.3           2.5\n",
            "147            6.5           3.0\n",
            "148            6.2           3.4\n",
            "149            5.9           3.0\n"
          ]
        }
      ]
    },
    {
      "cell_type": "markdown",
      "metadata": {
        "id": "fPf-nOAn7_7K"
      },
      "source": [
        "# Filtering Virginica for 2D Plot"
      ]
    },
    {
      "cell_type": "code",
      "metadata": {
        "colab": {
          "base_uri": "https://localhost:8080/",
          "height": 477
        },
        "id": "uckE7mUdQSPx",
        "outputId": "ad6a822e-ac9e-4aba-afef-ed9114c755ca"
      },
      "source": [
        "print(\"Virginica for 2D Plot\")\n",
        "print(\"X Axis points\")\n",
        "print(iris_X[iris_Y == 2,0])\n",
        "print(\"Y Axis Points\")\n",
        "print(iris_X[iris_Y == 2,1])\n",
        "print('\\n')\n",
        "plt.scatter(iris_X[iris_Y == 2, 0], iris_X[iris_Y == 2, 1], \n",
        "            s = 80, c = 'green', label = 'Iris-virginica')\n",
        "plt.xlim([4.5,8])\n",
        "plt.ylim([2,4.5])"
      ],
      "execution_count": null,
      "outputs": [
        {
          "output_type": "stream",
          "name": "stdout",
          "text": [
            "Virginica for 2D Plot\n",
            "X Axis points\n",
            "[6.3 5.8 7.1 6.3 6.5 7.6 4.9 7.3 6.7 7.2 6.5 6.4 6.8 5.7 5.8 6.4 6.5 7.7\n",
            " 7.7 6.  6.9 5.6 7.7 6.3 6.7 7.2 6.2 6.1 6.4 7.2 7.4 7.9 6.4 6.3 6.1 7.7\n",
            " 6.3 6.4 6.  6.9 6.7 6.9 5.8 6.8 6.7 6.7 6.3 6.5 6.2 5.9]\n",
            "Y Axis Points\n",
            "[3.3 2.7 3.  2.9 3.  3.  2.5 2.9 2.5 3.6 3.2 2.7 3.  2.5 2.8 3.2 3.  3.8\n",
            " 2.6 2.2 3.2 2.8 2.8 2.7 3.3 3.2 2.8 3.  2.8 3.  2.8 3.8 2.8 2.8 2.6 3.\n",
            " 3.4 3.1 3.  3.1 3.1 3.1 2.7 3.2 3.3 3.  2.5 3.  3.4 3. ]\n",
            "\n",
            "\n"
          ]
        },
        {
          "output_type": "execute_result",
          "data": {
            "text/plain": [
              "(2.0, 4.5)"
            ]
          },
          "metadata": {},
          "execution_count": 41
        },
        {
          "output_type": "display_data",
          "data": {
            "image/png": "[encoded data removed]",
            "text/plain": [
              "<Figure size 432x288 with 1 Axes>"
            ]
          },
          "metadata": {
            "needs_background": "light"
          }
        }
      ]
    },
    {
      "cell_type": "markdown",
      "metadata": {
        "id": "l4qRfqo68Wv2"
      },
      "source": [
        "# Visualisez les classes en même temps"
      ]
    },
    {
      "cell_type": "markdown",
      "metadata": {
        "id": "2J5tqvOD-8ER"
      },
      "source": [
        "\n",
        "Dans cet ensemble de données Iris, nous avons trois classes (0,1,2)\n",
        "\n",
        "On visualise ces classes dans un graphe 2-D\n",
        "\n",
        "Cela nous aidera à comparer les classes d'origine avec les clusters créés\n",
        "\n",
        "Tracez les trois types de fleurs sur un graphique"
      ]
    },
    {
      "cell_type": "code",
      "metadata": {
        "colab": {
          "base_uri": "https://localhost:8080/",
          "height": 285
        },
        "id": "sWmEoFDMQSCX",
        "outputId": "e7e5ee76-b14c-43ea-909d-abce55042af3"
      },
      "source": [
        "plt.scatter(iris_X[iris_Y == 0, 0], iris_X[iris_Y == 0, 1], \n",
        "            s = 80, c = 'orange', label = 'Iris-setosa')\n",
        "plt.scatter(iris_X[iris_Y == 1, 0], iris_X[iris_Y == 1, 1], \n",
        "            s = 80, c = 'yellow', label = 'Iris-versicolour')\n",
        "plt.scatter(iris_X[iris_Y == 2, 0], iris_X[iris_Y == 2, 1], \n",
        "            s = 80, c = 'green', label = 'Iris-virginica')\n",
        "plt.legend()\n",
        "\n"
      ],
      "execution_count": null,
      "outputs": [
        {
          "output_type": "execute_result",
          "data": {
            "text/plain": [
              "<matplotlib.legend.Legend at 0x7f7f96c586d0>"
            ]
          },
          "metadata": {},
          "execution_count": 42
        },
        {
          "output_type": "display_data",
          "data": {
            "image/png": "[encoded data removed]",
            "text/plain": [
              "<Figure size 432x288 with 1 Axes>"
            ]
          },
          "metadata": {
            "needs_background": "light"
          }
        }
      ]
    },
    {
      "cell_type": "markdown",
      "metadata": {
        "id": "CDg0D9T18gcf"
      },
      "source": [
        "# Scale Data"
      ]
    },
    {
      "cell_type": "code",
      "metadata": {
        "colab": {
          "base_uri": "https://localhost:8080/",
          "height": 206
        },
        "id": "eOUzvEmyQrWe",
        "outputId": "95bea81f-78e8-47f4-fb4d-6e73575cc18b"
      },
      "source": [
        "df = iris_data.iloc[:,:-1]\n",
        "\n",
        "for col in df.columns:\n",
        "  avg = df[col].mean()\n",
        "  sd = df[col].std()\n",
        "  df[col] = df[col].apply(lambda x: (x-avg)/sd)\n",
        "\n",
        "df.head()"
      ],
      "execution_count": null,
      "outputs": [
        {
          "output_type": "execute_result",
          "data": {
            "text/html": [
              "<div>\n",
              "<style scoped>\n",
              "    .dataframe tbody tr th:only-of-type {\n",
              "        vertical-align: middle;\n",
              "    }\n",
              "\n",
              "    .dataframe tbody tr th {\n",
              "        vertical-align: top;\n",
              "    }\n",
              "\n",
              "    .dataframe thead th {\n",
              "        text-align: right;\n",
              "    }\n",
              "</style>\n",
              "<table border=\"1\" class=\"dataframe\">\n",
              "  <thead>\n",
              "    <tr style=\"text-align: right;\">\n",
              "      <th></th>\n",
              "      <th>SepalLengthCm</th>\n",
              "      <th>SepalWidthCm</th>\n",
              "      <th>PetalLengthCm</th>\n",
              "      <th>PetalWidthCm</th>\n",
              "    </tr>\n",
              "  </thead>\n",
              "  <tbody>\n",
              "    <tr>\n",
              "      <th>0</th>\n",
              "      <td>-0.897674</td>\n",
              "      <td>1.028611</td>\n",
              "      <td>-1.336794</td>\n",
              "      <td>-1.308593</td>\n",
              "    </tr>\n",
              "    <tr>\n",
              "      <th>1</th>\n",
              "      <td>-1.139200</td>\n",
              "      <td>-0.124540</td>\n",
              "      <td>-1.336794</td>\n",
              "      <td>-1.308593</td>\n",
              "    </tr>\n",
              "    <tr>\n",
              "      <th>2</th>\n",
              "      <td>-1.380727</td>\n",
              "      <td>0.336720</td>\n",
              "      <td>-1.393470</td>\n",
              "      <td>-1.308593</td>\n",
              "    </tr>\n",
              "    <tr>\n",
              "      <th>3</th>\n",
              "      <td>-1.501490</td>\n",
              "      <td>0.106090</td>\n",
              "      <td>-1.280118</td>\n",
              "      <td>-1.308593</td>\n",
              "    </tr>\n",
              "    <tr>\n",
              "      <th>4</th>\n",
              "      <td>-1.018437</td>\n",
              "      <td>1.259242</td>\n",
              "      <td>-1.336794</td>\n",
              "      <td>-1.308593</td>\n",
              "    </tr>\n",
              "  </tbody>\n",
              "</table>\n",
              "</div>"
            ],
            "text/plain": [
              "   SepalLengthCm  SepalWidthCm  PetalLengthCm  PetalWidthCm\n",
              "0      -0.897674      1.028611      -1.336794     -1.308593\n",
              "1      -1.139200     -0.124540      -1.336794     -1.308593\n",
              "2      -1.380727      0.336720      -1.393470     -1.308593\n",
              "3      -1.501490      0.106090      -1.280118     -1.308593\n",
              "4      -1.018437      1.259242      -1.336794     -1.308593"
            ]
          },
          "metadata": {},
          "execution_count": 43
        }
      ]
    },
    {
      "cell_type": "markdown",
      "metadata": {
        "id": "iCd_TgWb8sTK"
      },
      "source": [
        "# DBSCAN Clustering"
      ]
    },
    {
      "cell_type": "code",
      "metadata": {
        "colab": {
          "base_uri": "https://localhost:8080/"
        },
        "id": "YK56hAcVQrKU",
        "outputId": "9d70ed27-8181-4fb8-8bf2-b63f6a11768b"
      },
      "source": [
        "min_samples = df.shape[1]*2 \n",
        "dbscan = DBSCAN(eps = 0.5,min_samples = min_samples)\n",
        "dbscan"
      ],
      "execution_count": null,
      "outputs": [
        {
          "output_type": "execute_result",
          "data": {
            "text/plain": [
              "DBSCAN(min_samples=8)"
            ]
          },
          "metadata": {},
          "execution_count": 44
        }
      ]
    },
    {
      "cell_type": "markdown",
      "metadata": {
        "id": "O1bcp_aC8yB5"
      },
      "source": [
        "# Fitting the model"
      ]
    },
    {
      "cell_type": "code",
      "metadata": {
        "colab": {
          "base_uri": "https://localhost:8080/"
        },
        "id": "4aHsbKkIQ4YZ",
        "outputId": "583e1a04-387f-4a0c-e150-abf95716aff0"
      },
      "source": [
        "clusters = dbscan.fit_predict(df)\n",
        "print(\"Clusters Created : \"+str(list(set(clusters))))\n"
      ],
      "execution_count": null,
      "outputs": [
        {
          "output_type": "stream",
          "name": "stdout",
          "text": [
            "Clusters Created : [0, 1, 2, -1]\n"
          ]
        }
      ]
    },
    {
      "cell_type": "markdown",
      "source": [
        "Ici la valeur est minimum=2 car dans la bibliothèque sklearn, l'algorithme se considère également\n",
        "\n",
        " Donc la première distance sera 0 car il calcule la distance d'un point à son propre point\n",
        "\n",
        "Par conséquent, nous avons besoin d'un autre point (minimum) pour calculer une distance (plus de 0)\n",
        "\n",
        "Nous considérons donc au moins deux points (un point lui-même et un autre point de données)"
      ],
      "metadata": {
        "id": "YzBHBUAoW8sK"
      }
    },
    {
      "cell_type": "code",
      "metadata": {
        "id": "E-TlpJIeQ4Al"
      },
      "source": [
        "k = min_samples if min_samples > 2 else 2\n",
        "nbrs = NearestNeighbors(n_neighbors= k).fit(df)\n",
        "distances, indices = nbrs.kneighbors(df) "
      ],
      "execution_count": null,
      "outputs": []
    },
    {
      "cell_type": "markdown",
      "source": [
        ""
      ],
      "metadata": {
        "id": "vE3PkaQYXCDG"
      }
    },
    {
      "cell_type": "code",
      "source": [
        "print(\"Minimum Samples : \"+str(min_samples))\n",
        "print(\"Shape of Distance Matrix : \"+ str(distances.shape)+\"\\n\")\n",
        "print(\"Showing distance to each datapoints (small to large distance) from itself\")\n",
        "print(\"8 because we mentioned Minimum Samples = 8\")\n",
        "print(\"Last value 8th row will be highest among all the 8 Distances (8-NN)\\n\")\n",
        "\n",
        "print(\"First 5 Datapoints of the dataset:\")\n",
        "for enum, row in enumerate(distances[:5]):\n",
        "  print(\"observations \"+str(enum)+\":\"+str([round(x,2) for x in row]))\n",
        "\n"
      ],
      "metadata": {
        "colab": {
          "base_uri": "https://localhost:8080/"
        },
        "id": "XeAu67OXXFnq",
        "outputId": "03285f77-82c8-45c5-ed1c-60013d0f7478"
      },
      "execution_count": null,
      "outputs": [
        {
          "output_type": "stream",
          "name": "stdout",
          "text": [
            "Minimum Samples : 8\n",
            "Shape of Distance Matrix : (150, 8)\n",
            "\n",
            "Showing distance to each datapoints (small to large distance) from itself\n",
            "8 because we mentioned Minimum Samples = 8\n",
            "Last value 8th row will be highest among all the 8 Distances (8-NN)\n",
            "\n",
            "First 5 Datapoints of the dataset:\n",
            "observations 0:[0.0, 0.13, 0.13, 0.19, 0.24, 0.26, 0.26, 0.27]\n",
            "observations 1:[0.0, 0.17, 0.18, 0.18, 0.27, 0.27, 0.27, 0.28]\n",
            "observations 2:[0.0, 0.13, 0.17, 0.28, 0.31, 0.36, 0.37, 0.38]\n",
            "observations 3:[0.0, 0.24, 0.25, 0.27, 0.28, 0.35, 0.35, 0.36]\n",
            "observations 4:[0.0, 0.26, 0.27, 0.29, 0.34, 0.37, 0.43, 0.46]\n"
          ]
        }
      ]
    },
    {
      "cell_type": "markdown",
      "source": [
        "\n",
        "150 est le nombre de lignes\n",
        "\n",
        "8 est la distance à 8 points de données de chaque observation"
      ],
      "metadata": {
        "id": "xX2-o_k9XXHi"
      }
    },
    {
      "cell_type": "code",
      "source": [
        "df['knn_farthest_distance'] = distances[:,-1]\n",
        "df.head()"
      ],
      "metadata": {
        "colab": {
          "base_uri": "https://localhost:8080/",
          "height": 226
        },
        "id": "k5QjcPPjXglN",
        "outputId": "3f46c36e-c94c-4f7c-8a0e-8ad80a0bc7cc"
      },
      "execution_count": null,
      "outputs": [
        {
          "output_type": "execute_result",
          "data": {
            "text/html": [
              "<div>\n",
              "<style scoped>\n",
              "    .dataframe tbody tr th:only-of-type {\n",
              "        vertical-align: middle;\n",
              "    }\n",
              "\n",
              "    .dataframe tbody tr th {\n",
              "        vertical-align: top;\n",
              "    }\n",
              "\n",
              "    .dataframe thead th {\n",
              "        text-align: right;\n",
              "    }\n",
              "</style>\n",
              "<table border=\"1\" class=\"dataframe\">\n",
              "  <thead>\n",
              "    <tr style=\"text-align: right;\">\n",
              "      <th></th>\n",
              "      <th>SepalLengthCm</th>\n",
              "      <th>SepalWidthCm</th>\n",
              "      <th>PetalLengthCm</th>\n",
              "      <th>PetalWidthCm</th>\n",
              "      <th>knn_farthest_distance</th>\n",
              "    </tr>\n",
              "  </thead>\n",
              "  <tbody>\n",
              "    <tr>\n",
              "      <th>0</th>\n",
              "      <td>-0.897674</td>\n",
              "      <td>1.028611</td>\n",
              "      <td>-1.336794</td>\n",
              "      <td>-1.308593</td>\n",
              "      <td>0.266432</td>\n",
              "    </tr>\n",
              "    <tr>\n",
              "      <th>1</th>\n",
              "      <td>-1.139200</td>\n",
              "      <td>-0.124540</td>\n",
              "      <td>-1.336794</td>\n",
              "      <td>-1.308593</td>\n",
              "      <td>0.283941</td>\n",
              "    </tr>\n",
              "    <tr>\n",
              "      <th>2</th>\n",
              "      <td>-1.380727</td>\n",
              "      <td>0.336720</td>\n",
              "      <td>-1.393470</td>\n",
              "      <td>-1.308593</td>\n",
              "      <td>0.376223</td>\n",
              "    </tr>\n",
              "    <tr>\n",
              "      <th>3</th>\n",
              "      <td>-1.501490</td>\n",
              "      <td>0.106090</td>\n",
              "      <td>-1.280118</td>\n",
              "      <td>-1.308593</td>\n",
              "      <td>0.363191</td>\n",
              "    </tr>\n",
              "    <tr>\n",
              "      <th>4</th>\n",
              "      <td>-1.018437</td>\n",
              "      <td>1.259242</td>\n",
              "      <td>-1.336794</td>\n",
              "      <td>-1.308593</td>\n",
              "      <td>0.464730</td>\n",
              "    </tr>\n",
              "  </tbody>\n",
              "</table>\n",
              "</div>"
            ],
            "text/plain": [
              "   SepalLengthCm  SepalWidthCm  ...  PetalWidthCm  knn_farthest_distance\n",
              "0      -0.897674      1.028611  ...     -1.308593               0.266432\n",
              "1      -1.139200     -0.124540  ...     -1.308593               0.283941\n",
              "2      -1.380727      0.336720  ...     -1.308593               0.376223\n",
              "3      -1.501490      0.106090  ...     -1.308593               0.363191\n",
              "4      -1.018437      1.259242  ...     -1.308593               0.464730\n",
              "\n",
              "[5 rows x 5 columns]"
            ]
          },
          "metadata": {},
          "execution_count": 49
        }
      ]
    },
    {
      "cell_type": "markdown",
      "source": [
        "La dernière cellule de chaque ligne représente la valeur la plus élevée du Kème point le plus éloigné\n",
        "\n",
        "Ajout du point le plus éloigné à l'ensemble de données"
      ],
      "metadata": {
        "id": "vGiRffa1Xiwk"
      }
    },
    {
      "cell_type": "code",
      "source": [
        "# Farthest Distance for 8 Neighbour from each data point \n",
        "df.sort_values('knn_farthest_distance',ascending=False).reset_index()[['knn_farthest_distance']].plot()\n",
        "print(df.sort_values('knn_farthest_distance',ascending=False).reset_index().head())\n",
        "plt.xlabel('index')\n",
        "plt.ylabel('distance')\n",
        "plt.title('Farthest Distance for 8 Neighbour from each data point')\n",
        "plt.grid(True)\n",
        "plt.show()"
      ],
      "metadata": {
        "colab": {
          "base_uri": "https://localhost:8080/",
          "height": 434
        },
        "id": "EuHFUMPtXyNY",
        "outputId": "6121bc7b-059f-4543-fd0c-9cabcd471e02"
      },
      "execution_count": null,
      "outputs": [
        {
          "output_type": "stream",
          "name": "stdout",
          "text": [
            "   index  SepalLengthCm  ...  PetalWidthCm  knn_farthest_distance\n",
            "0    131       2.483699  ...      1.050019               1.919676\n",
            "1    117       2.242172  ...      1.312087               1.821781\n",
            "2     41      -1.622254  ...     -1.177559               1.662818\n",
            "3     15      -0.173094  ...     -1.046525               1.567494\n",
            "4    118       2.242172  ...      1.443121               1.526265\n",
            "\n",
            "[5 rows x 6 columns]\n"
          ]
        },
        {
          "output_type": "display_data",
          "data": {
            "image/png": "[encoded data removed]",
            "text/plain": [
              "<Figure size 432x288 with 1 Axes>"
            ]
          },
          "metadata": {
            "needs_background": "light"
          }
        }
      ]
    },
    {
      "cell_type": "markdown",
      "source": [
        "\n",
        "Beaucoup auront une valeur différente d'eps respectivement\n",
        "\n",
        "Calculer la distance de silhouette sous la séparation entre les clusters"
      ],
      "metadata": {
        "id": "18pke2LVX8y9"
      }
    },
    {
      "cell_type": "code",
      "source": [
        "df = df.iloc[:,:-1] \n",
        "second_model = DBSCAN(eps = 0.7, min_samples=min_samples)\n",
        "df['clusters'] = second_model.fit_predict(df)\n",
        "print(\"Frequency of DBScan Output Cluster v1\")\n",
        "print(df.clusters.value_counts())\n",
        "\n",
        "# Original Cluster\n",
        "print(\"\\nOriginal Cluster\")\n",
        "print(freq_2)"
      ],
      "metadata": {
        "colab": {
          "base_uri": "https://localhost:8080/"
        },
        "id": "pBw8XZWOX-vI",
        "outputId": "edb926c8-c941-419a-dde4-0764324fb5d0"
      },
      "execution_count": null,
      "outputs": [
        {
          "output_type": "stream",
          "name": "stdout",
          "text": [
            "Frequency of DBScan Output Cluster v1\n",
            " 1    86\n",
            " 0    47\n",
            "-1    17\n",
            "Name: clusters, dtype: int64\n",
            "\n",
            "Original Cluster\n",
            "{0: 50, 1: 50, 2: 50}\n"
          ]
        }
      ]
    },
    {
      "cell_type": "markdown",
      "source": [
        "la plage eps sera supérieure à 0\n",
        "\n",
        "La valeur la plus élevée dépend de la mise à l'échelle\n",
        "\n",
        "Si la mise à l'échelle est de 0 à 1, la plage eps est de 0 à 1, sinon elle peut avoir des valeurs plus élevées supérieures à 1"
      ],
      "metadata": {
        "id": "eY7nFoQuYPg9"
      }
    }
  ]
}